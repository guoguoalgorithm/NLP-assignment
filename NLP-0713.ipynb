{
 "cells": [
  {
   "cell_type": "markdown",
   "metadata": {},
   "source": [
    "## Part I Review the online programming."
   ]
  },
  {
   "cell_type": "code",
   "execution_count": null,
   "metadata": {},
   "outputs": [],
   "source": []
  },
  {
   "cell_type": "code",
   "execution_count": null,
   "metadata": {},
   "outputs": [],
   "source": []
  },
  {
   "cell_type": "code",
   "execution_count": null,
   "metadata": {},
   "outputs": [],
   "source": []
  },
  {
   "cell_type": "markdown",
   "metadata": {},
   "source": [
    "## Part 2: "
   ]
  },
  {
   "cell_type": "markdown",
   "metadata": {},
   "source": [
    "change loss function from $loss = \\frac{1}{n}\\sum{(y_i - \\hat(y_i))^2}$ to $loss = \\frac{1}{n}\\sum{|y_i - \\hat{y_i}|}$, and using your mathmatical knowledge to get the right partial formual. Implemen the gradient descent code."
   ]
  },
  {
   "cell_type": "code",
   "execution_count": 3,
   "metadata": {},
   "outputs": [],
   "source": [
    "from sklearn.datasets import load_boston\n",
    "data = load_boston()\n",
    "X,y = data['data'],data['target']\n",
    "x = X[:,5]"
   ]
  },
  {
   "cell_type": "code",
   "execution_count": 6,
   "metadata": {},
   "outputs": [],
   "source": [
    "import random"
   ]
  },
  {
   "cell_type": "code",
   "execution_count": 8,
   "metadata": {},
   "outputs": [],
   "source": [
    "def x_y_func(x,k,b):\n",
    "    return x*k+b"
   ]
  },
  {
   "cell_type": "code",
   "execution_count": 4,
   "metadata": {},
   "outputs": [],
   "source": [
    "def loss_abs(y,x_y):#基于绝对值的损失函数\n",
    "    a = 0\n",
    "    for i,j in list(zip(y,x_y)):\n",
    "        a += abs(i-j)\n",
    "    return a"
   ]
  },
  {
   "cell_type": "code",
   "execution_count": 9,
   "metadata": {},
   "outputs": [],
   "source": [
    "def partial_k(x, y, y_hat):#求K的偏导数\n",
    "    n = len(y)\n",
    "\n",
    "    gradient = 0\n",
    "    \n",
    "    for x_i, y_i, y_hat_i in zip(list(x), list(y), list(y_hat)):\n",
    "        if y_i > y_hat_i:\n",
    "            gradient += -x_i\n",
    "        elif y_i == y_hat_i:\n",
    "            gradient += 0\n",
    "        else:\n",
    "            gradient += x_i\n",
    "    return 1 / n * gradient\n",
    "\n",
    "\n",
    "def partial_b(x, y, y_hat): #求b的偏导数\n",
    "    n = len(y)\n",
    "\n",
    "    gradient = 0\n",
    "    \n",
    "    for x_i, y_i, y_hat_i in zip(list(x), list(y), list(y_hat)):\n",
    "        if y_i > y_hat_i:\n",
    "            gradient += -1\n",
    "        elif y_i == y_hat_i:\n",
    "            gradient += 0\n",
    "        else:\n",
    "            gradient += 1\n",
    "    return 1 / n * gradient"
   ]
  },
  {
   "cell_type": "code",
   "execution_count": 20,
   "metadata": {},
   "outputs": [
    {
     "name": "stdout",
     "output_type": "stream",
     "text": [
      "the time is 0,the best_k is 7.460234771337653, the best_b is -51.26622821802756,the loss is 13618.578399598908\n",
      "the time is 10,the best_k is 11.647054534183505, the best_b is -50.59271043146629,the loss is 2299.0743045954105\n",
      "the time is 20,the best_k is 11.652952162642004, the best_b is -50.57373809945051,the loss is 2298.8583553961266\n",
      "the time is 30,the best_k is 11.648704336555044, the best_b is -50.55634679510271,the loss is 2298.7015101788093\n",
      "the time is 40,the best_k is 11.646992874104448, the best_b is -50.53856023383792,the loss is 2298.533530972805\n",
      "the time is 50,the best_k is 11.645281411653853, the best_b is -50.52077367257313,the loss is 2298.37877390166\n",
      "the time is 60,the best_k is 11.641033585566893, the best_b is -50.50338236822533,the loss is 2298.214446248771\n",
      "the time is 70,the best_k is 11.639322123116298, the best_b is -50.48559580696054,the loss is 2298.0539494783407\n",
      "the time is 80,the best_k is 11.635074297029337, the best_b is -50.46820450261274,the loss is 2297.895747603317\n",
      "the time is 90,the best_k is 11.633362834578742, the best_b is -50.45041794134795,the loss is 2297.729125055022\n",
      "the time is 100,the best_k is 11.631651372128147, the best_b is -50.43263138008316,the loss is 2297.574367983875\n",
      "the time is 110,the best_k is 11.627403546041187, the best_b is -50.41524007573536,the loss is 2297.408683673277\n",
      "the time is 120,the best_k is 11.625692083590591, the best_b is -50.39745351447057,the loss is 2297.249543560556\n",
      "the time is 130,the best_k is 11.621444257503631, the best_b is -50.38006221012277,the loss is 2297.089985027825\n",
      "the time is 140,the best_k is 11.619732795053036, the best_b is -50.36227564885798,the loss is 2296.9247191372324\n",
      "the time is 150,the best_k is 11.61802133260244, the best_b is -50.34448908759319,the loss is 2296.769962066089\n",
      "the time is 160,the best_k is 11.61377350651548, the best_b is -50.32709778324539,the loss is 2296.602921097787\n",
      "the time is 170,the best_k is 11.612062044064885, the best_b is -50.3093112219806,the loss is 2296.4451376427687\n",
      "the time is 180,the best_k is 11.607814217977925, the best_b is -50.291919917632804,the loss is 2296.2842224523315\n",
      "the time is 190,the best_k is 11.60610275552733, the best_b is -50.27413335636801,the loss is 2296.1203132194496\n",
      "the time is 200,the best_k is 11.60185492944037, the best_b is -50.256742052020215,the loss is 2295.965523806879\n",
      "the time is 210,the best_k is 11.600143466989774, the best_b is -50.23895549075542,the loss is 2295.7971585222954\n",
      "the time is 220,the best_k is 11.598432004539179, the best_b is -50.22116892949063,the loss is 2295.6407317249837\n",
      "the time is 230,the best_k is 11.594184178452219, the best_b is -50.203777625142834,the loss is 2295.4784598768388\n",
      "the time is 240,the best_k is 11.592472716001623, the best_b is -50.18599106387804,the loss is 2295.3159073016627\n",
      "the time is 250,the best_k is 11.588224889914663, the best_b is -50.168599759530245,the loss is 2295.1597612313853\n",
      "the time is 260,the best_k is 11.586513427464068, the best_b is -50.15081319826545,the loss is 2294.9913959468\n",
      "the time is 270,the best_k is 11.584801965013472, the best_b is -50.13302663700066,the loss is 2294.836325807198\n",
      "the time is 280,the best_k is 11.580554138926512, the best_b is -50.115635332652865,the loss is 2294.6726973013474\n",
      "the time is 290,the best_k is 11.578842676475917, the best_b is -50.09784877138807,the loss is 2294.511501383879\n"
     ]
    }
   ],
   "source": [
    "k_0 = random.random()*200 - 100\n",
    "b_0 = random.random()*200 - 100\n",
    "scalar = 1e-01\n",
    "loss_ini = float('inf') \n",
    "y_hat0 = x_y_func(x,k_0,b_0)\n",
    "loss_0 = loss_abs(y,y_hat0)\n",
    "for i in range(5000):\n",
    "    if loss_0 < loss_ini:\n",
    "        partial_k0 = partial_k(x, y, y_hat0)\n",
    "        partial_b0 = partial_b(x, y, y_hat0)\n",
    "        best_k,best_b = k_0,b_0\n",
    "        k_0, b_0 = k_0 - partial_k0 * scalar, b_0 - partial_b0 * scalar\n",
    "        loss_ini = loss_0\n",
    "        y_hat0 = x_y_func(x,k_0,b_0)\n",
    "        loss_0 = loss_abs(y,y_hat0)\n",
    "        if i % 10 == 0:print('the time is {},the best_k is {}, the best_b is {},the loss is {}'.format(i,best_k,best_b,loss_ini))\n"
   ]
  },
  {
   "cell_type": "code",
   "execution_count": 21,
   "metadata": {},
   "outputs": [
    {
     "data": {
      "text/plain": [
       "<matplotlib.collections.PathCollection at 0x2f8d940>"
      ]
     },
     "execution_count": 21,
     "metadata": {},
     "output_type": "execute_result"
    },
    {
     "data": {
      "image/png": "[encoded data removed]",
      "text/plain": [
       "<Figure size 432x288 with 1 Axes>"
      ]
     },
     "metadata": {
      "needs_background": "light"
     },
     "output_type": "display_data"
    }
   ],
   "source": [
    "import matplotlib.pyplot as plt\n",
    "%matplotlib inline\n",
    "plt.scatter(x,y)\n",
    "plt.scatter(x,x_y_func(x,best_k,best_b))"
   ]
  },
  {
   "cell_type": "markdown",
   "metadata": {},
   "source": [
    "## Part 3: Finish the Solution Parse Part of Edit-Distance"
   ]
  },
  {
   "cell_type": "code",
   "execution_count": null,
   "metadata": {},
   "outputs": [],
   "source": []
  },
  {
   "cell_type": "code",
   "execution_count": null,
   "metadata": {},
   "outputs": [],
   "source": []
  },
  {
   "cell_type": "code",
   "execution_count": null,
   "metadata": {},
   "outputs": [],
   "source": []
  },
  {
   "cell_type": "code",
   "execution_count": null,
   "metadata": {},
   "outputs": [],
   "source": []
  },
  {
   "cell_type": "markdown",
   "metadata": {},
   "source": [
    "## Part 5-1: review machine learning"
   ]
  },
  {
   "cell_type": "markdown",
   "metadata": {},
   "source": [
    "1.Why do we use Derivative / Gredient to fit a target function?¶\n",
    "\n",
    "Ans:利用导数/梯度的方法能够找到使损失函数下降的最快方向，是要寻找的目标值能够快速收敛。\n",
    "\n",
    "2.In the words 'Gredient Descent', what's the Gredient and what's the Descent?¶\n",
    "\n",
    "Ans:梯度指的是损失函数上升/下降最快的方向，下降是选择梯度下降的那一个方向\n",
    "\n",
    "3.What's the advantages of the 3rd gradient descent method compared to the previous methods?\n",
    "\n",
    "Ans:收敛速度快，节省计算机算力\n",
    "\n",
    "4.Using the simple words to describe: What's the machine leanring.¶\n",
    "\n",
    "Ans:通过某种标准计算样本，得到该类总体的一种模式，把得到的该类模式用于预测，解释总体等等。"
   ]
  },
  {
   "cell_type": "markdown",
   "metadata": {},
   "source": [
    "## Part 5: Answer following questions:"
   ]
  },
  {
   "cell_type": "markdown",
   "metadata": {},
   "source": [
    "1.Why do we need dynamic programming? What's the difference of dynamic programming and previous talked search problme?\n",
    "\n",
    "Ans:\n",
    "\n",
    "2.Why do we still need dynamic programming? Why not we train a machine learning to fit a function which could get the right answer based on inputs?\n",
    "\n",
    "Ans:\n",
    "\n",
    "3.Can you catch up at least 3 problems which could solved by Dynamic Programming?\n",
    "\n",
    "Ans:\n",
    "\n",
    "4.Can you catch up at least 3 problems wich could sloved by Edit Distance?\n",
    "\n",
    "Ans:\n",
    "\n",
    "5.Please summarize the three main features of Dynamic Programming, and make a concise explain for each feature.\n",
    "\n",
    "Ans:\n",
    "\n",
    "6.What's the disadvantages of Dynamic Programming? (You may need search by yourself in Internet)\n",
    "\n",
    "Ans:\n"
   ]
  }
 ],
 "metadata": {
  "kernelspec": {
   "display_name": "Python 3",
   "language": "python",
   "name": "python3"
  },
  "language_info": {
   "codemirror_mode": {
    "name": "ipython",
    "version": 3
   },
   "file_extension": ".py",
   "mimetype": "text/x-python",
   "name": "python",
   "nbconvert_exporter": "python",
   "pygments_lexer": "ipython3",
   "version": "3.6.3"
  }
 },
 "nbformat": 4,
 "nbformat_minor": 2
}
